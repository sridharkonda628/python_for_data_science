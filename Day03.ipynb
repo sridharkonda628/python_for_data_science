{
  "nbformat": 4,
  "nbformat_minor": 0,
  "metadata": {
    "colab": {
      "provenance": [],
      "authorship_tag": "ABX9TyNmMaawyGweDkR+Qsm6f7kk",
      "include_colab_link": true
    },
    "kernelspec": {
      "name": "python3",
      "display_name": "Python 3"
    },
    "language_info": {
      "name": "python"
    }
  },
  "cells": [
    {
      "cell_type": "markdown",
      "metadata": {
        "id": "view-in-github",
        "colab_type": "text"
      },
      "source": [
        "<a href=\"https://colab.research.google.com/github/sridharkonda628/python_for_data_science/blob/main/Day03.ipynb\" target=\"_parent\"><img src=\"https://colab.research.google.com/assets/colab-badge.svg\" alt=\"Open In Colab\"/></a>"
      ]
    },
    {
      "cell_type": "code",
      "execution_count": null,
      "metadata": {
        "colab": {
          "base_uri": "https://localhost:8080/"
        },
        "id": "LusWHgal4RTN",
        "outputId": "f562d9c3-2f51-4f32-b0ed-683424e1bd84"
      },
      "outputs": [
        {
          "output_type": "stream",
          "name": "stdout",
          "text": [
            "[1, 4, 9, 16]\n"
          ]
        }
      ],
      "source": [
        "list1=[1,2,3,4]\n",
        "squares=[]\n",
        "for i in list1:\n",
        "  squares.append(i*i)\n",
        "print(squares)"
      ]
    },
    {
      "cell_type": "code",
      "source": [
        "squares2=list(map(lambda i:i*i,list1))\n",
        "print(squares2)"
      ],
      "metadata": {
        "colab": {
          "base_uri": "https://localhost:8080/"
        },
        "id": "KVIcwT-v5ElN",
        "outputId": "b576cff9-0543-4367-9ad4-6472508b552f"
      },
      "execution_count": null,
      "outputs": [
        {
          "output_type": "stream",
          "name": "stdout",
          "text": [
            "[1, 4, 9, 16]\n"
          ]
        }
      ]
    },
    {
      "cell_type": "code",
      "source": [
        "squares2=list(filter(lambda i:i%2==0,list1))\n",
        "print(squares2)"
      ],
      "metadata": {
        "colab": {
          "base_uri": "https://localhost:8080/"
        },
        "id": "oEMddRvW5178",
        "outputId": "bd11ec8c-feca-45be-97a0-e4201301035b"
      },
      "execution_count": null,
      "outputs": [
        {
          "output_type": "stream",
          "name": "stdout",
          "text": [
            "[2, 4]\n"
          ]
        }
      ]
    },
    {
      "cell_type": "code",
      "source": [
        "import numpy as ny"
      ],
      "metadata": {
        "id": "DP32CFWD7UCa"
      },
      "execution_count": null,
      "outputs": []
    },
    {
      "cell_type": "code",
      "source": [
        "np1=ny.array([1,2,3,6,7])\n",
        "print(np1)\n",
        "print(type(np1))"
      ],
      "metadata": {
        "colab": {
          "base_uri": "https://localhost:8080/"
        },
        "id": "AyRps0lZ7dgn",
        "outputId": "95b25179-03a6-4509-df79-5533a227e922"
      },
      "execution_count": null,
      "outputs": [
        {
          "output_type": "stream",
          "name": "stdout",
          "text": [
            "[1 2 3 6 7]\n",
            "<class 'numpy.ndarray'>\n"
          ]
        }
      ]
    },
    {
      "cell_type": "code",
      "source": [
        "np2=ny.array([[1,2,3],[4,5,6]])\n",
        "print(np2)"
      ],
      "metadata": {
        "colab": {
          "base_uri": "https://localhost:8080/"
        },
        "id": "4VaaODye8O29",
        "outputId": "5f039cd8-2117-4f79-8f2b-d31e0c6506e8"
      },
      "execution_count": null,
      "outputs": [
        {
          "output_type": "stream",
          "name": "stdout",
          "text": [
            "[[1 2 3]\n",
            " [4 5 6]]\n"
          ]
        }
      ]
    },
    {
      "cell_type": "code",
      "source": [
        "#numpy is mutable\n",
        "np1[2]=56\n",
        "print(np1)"
      ],
      "metadata": {
        "colab": {
          "base_uri": "https://localhost:8080/"
        },
        "id": "KLUp2IaS8usZ",
        "outputId": "8d4540ff-2f68-4bd7-d811-62e44f048e03"
      },
      "execution_count": null,
      "outputs": [
        {
          "output_type": "stream",
          "name": "stdout",
          "text": [
            "[ 1  2 56  6  7]\n"
          ]
        }
      ]
    },
    {
      "cell_type": "code",
      "source": [
        "#accesing 2D array\n",
        "print(np2[0][1])"
      ],
      "metadata": {
        "colab": {
          "base_uri": "https://localhost:8080/"
        },
        "id": "s1SIn-rj9Zei",
        "outputId": "bd9a933e-8f7a-4c05-94bd-7b385baf1742"
      },
      "execution_count": null,
      "outputs": [
        {
          "output_type": "stream",
          "name": "stdout",
          "text": [
            "2\n"
          ]
        }
      ]
    },
    {
      "cell_type": "code",
      "source": [
        "print(len(np1),len(np2))"
      ],
      "metadata": {
        "colab": {
          "base_uri": "https://localhost:8080/"
        },
        "id": "R5hm9Q3_99pJ",
        "outputId": "424db884-1486-4708-97bd-bb307874ff90"
      },
      "execution_count": null,
      "outputs": [
        {
          "output_type": "stream",
          "name": "stdout",
          "text": [
            "5 2\n"
          ]
        }
      ]
    },
    {
      "cell_type": "code",
      "source": [
        "import time\n",
        "list1=[i for i in range(10**6)]\n",
        "np3=ny.array(list1)\n",
        "\n",
        "time_list=time.time()\n",
        "for in list1\n",
        "time_list=time.time()\n",
        "\n",
        "\n",
        "time_list=time.time()\n",
        "\n",
        "time_list=time.time()"
      ],
      "metadata": {
        "id": "t1gFhTzU-EpX"
      },
      "execution_count": null,
      "outputs": []
    },
    {
      "cell_type": "code",
      "source": [
        "random1=ny.ones((3,3),dtype='int')\n",
        "print(random1)"
      ],
      "metadata": {
        "colab": {
          "base_uri": "https://localhost:8080/"
        },
        "id": "7LQjvKM_Brr0",
        "outputId": "4074cbbb-302c-4fe0-e876-d007ee3f5623"
      },
      "execution_count": null,
      "outputs": [
        {
          "output_type": "stream",
          "name": "stdout",
          "text": [
            "[[1 1 1]\n",
            " [1 1 1]\n",
            " [1 1 1]]\n"
          ]
        }
      ]
    },
    {
      "cell_type": "code",
      "source": [
        "random2=ny.full((3,3),\"\")\n",
        "print(random2)"
      ],
      "metadata": {
        "colab": {
          "base_uri": "https://localhost:8080/"
        },
        "id": "d32WcZQBCQiJ",
        "outputId": "582049bf-3768-4d1f-f60d-0e6eeac288f1"
      },
      "execution_count": null,
      "outputs": [
        {
          "output_type": "stream",
          "name": "stdout",
          "text": [
            "[['' '' '']\n",
            " ['' '' '']\n",
            " ['' '' '']]\n"
          ]
        }
      ]
    },
    {
      "cell_type": "code",
      "source": [
        "def check_win(board,user_value):\n",
        "  #check for rows\n",
        "  for i in range(0,3):\n",
        "    if(ny.all(ny.(board[i])==user_value) or ny.all(board[:i]==user_value):\n",
        "      return True\n",
        "    if(ny.all(ny.diag(board)==user_value)):\n",
        "      return True\n",
        "     return False\n",
        "\n"
      ],
      "metadata": {
        "id": "8eiT8h1PE95k"
      },
      "execution_count": null,
      "outputs": []
    },
    {
      "cell_type": "code",
      "source": [],
      "metadata": {
        "id": "S07gUDUyHBKE"
      },
      "execution_count": null,
      "outputs": []
    },
    {
      "cell_type": "code",
      "source": [
        "def game_start():\n",
        "  board=ny.full((3,3),\" \")\n",
        "  player1=input(\"Enter your name player1\")\n",
        "  player1=input(\"Enter your name player2\")\n",
        "  check=player1\n",
        "  while True:\n",
        "    if check==player1:\n",
        "      print(player1,\"It's your chance now\")\n",
        "    else:\n",
        "      print(player2,\"It's your turn now!!\")\n",
        "  row=int(input(\"Enter row\"))\n",
        "  col=int(input(\"Enter col\"))\n",
        "  if board[row][col]!=\" \":\n",
        "    print(\"It's already occupied\")\n",
        "    continue\n",
        "  if check==player1:\n",
        "    board[row][col]='X'\n",
        "    if(check_win(board,'X')):\n",
        "      print(board)\n",
        "      print(player1,\"You won!!\")\n",
        "      break\n",
        "  else:\n",
        "    board[row][col]='X'\n",
        "    if(check_win(board,'X')):\n",
        "      print(board)\n",
        "      print(player2,\"You won!!\")\n",
        "      break\n",
        "   if check==player1:\n",
        "    check=player1\n",
        "   else:\n",
        "    check=player2\n",
        "\n"
      ],
      "metadata": {
        "id": "pkfN8nqQCq4w"
      },
      "execution_count": null,
      "outputs": []
    },
    {
      "cell_type": "code",
      "source": [
        "print(\"Welcome TIC-TAC-TOE\")\n",
        "play1=input(\"Are you ready to start?\")\n",
        "if(play1==\"yes!\")"
      ],
      "metadata": {
        "id": "Vft82a4RCbF8"
      },
      "execution_count": null,
      "outputs": []
    },
    {
      "cell_type": "code",
      "source": [
        "import numpy as ny\n",
        "def check_win(board,user_value):\n",
        "  #check for rows\n",
        "  for i in range(0,3):\n",
        "    if(ny.all(board[i])==user_value) or ny.all(board[:i]==user_value):\n",
        "      return True\n",
        "    if(ny.all(ny.diag(board)==user_value)):\n",
        "      return True\n",
        "     return False\n",
        "def game_start():\n",
        "  board=ny.full((3,3),\" \")\n",
        "  player1=input(\"Enter your name player1\")\n",
        "  player1=input(\"Enter your name player2\")\n",
        "  check=player1\n",
        "  while True:\n",
        "    if check==player1:\n",
        "      print(player1,\"It's your chance now\")\n",
        "    else:\n",
        "      print(player2,\"It's your turn now!!\")\n",
        "  row=int(input(\"Enter row\"))\n",
        "  col=int(input(\"Enter col\"))\n",
        "  if board[row][col]!=\" \":\n",
        "    print(\"It's already occupied\")\n",
        "    continue\n",
        "  if check==player1:\n",
        "    board[row][col]='X'\n",
        "    if(check_win(board,'X')):\n",
        "      print(board)\n",
        "      print(player1,\"You won!!\")\n",
        "      break\n",
        "  else:\n",
        "    board[row][col]='X'\n",
        "    if(check_win(board,'X')):\n",
        "      print(board)\n",
        "      print(player2,\"You won!!\")\n",
        "      break\n",
        "   if check==player1:\n",
        "    check=player1\n",
        "   else:\n",
        "    check=player2\n",
        "print(\"Welcome TIC-TAC-TOE\")\n",
        "play1=input(\"Are you ready to start?\")\n",
        "if(play1==\"yes!\")\n",
        "  game_starts()\n",
        "else:\n",
        "  print(\"You choose not to play:(\")\n"
      ],
      "metadata": {
        "colab": {
          "base_uri": "https://localhost:8080/",
          "height": 109
        },
        "id": "GyayzGiAHEno",
        "outputId": "cc2ac49f-9c54-4fc9-bc04-ad7563aaec0d"
      },
      "execution_count": null,
      "outputs": [
        {
          "output_type": "error",
          "ename": "IndentationError",
          "evalue": "unindent does not match any outer indentation level (<tokenize>, line 9)",
          "traceback": [
            "\u001b[0;36m  File \u001b[0;32m\"<tokenize>\"\u001b[0;36m, line \u001b[0;32m9\u001b[0m\n\u001b[0;31m    return False\u001b[0m\n\u001b[0m    ^\u001b[0m\n\u001b[0;31mIndentationError\u001b[0m\u001b[0;31m:\u001b[0m unindent does not match any outer indentation level\n"
          ]
        }
      ]
    },
    {
      "cell_type": "code",
      "source": [
        "n1=float(input(\"Enter 1: \"))\n",
        "n2=float(input(\"Enter 2: \"))\n",
        "ny.add(n1,n2)"
      ],
      "metadata": {
        "colab": {
          "base_uri": "https://localhost:8080/"
        },
        "id": "UlpavQhCJdEN",
        "outputId": "bdec8d3c-0079-416f-f9c9-d7d2849a82fa"
      },
      "execution_count": null,
      "outputs": [
        {
          "name": "stdout",
          "output_type": "stream",
          "text": [
            "Enter 1: 10\n",
            "Enter 2: 20\n"
          ]
        },
        {
          "output_type": "execute_result",
          "data": {
            "text/plain": [
              "30.0"
            ]
          },
          "metadata": {},
          "execution_count": 39
        }
      ]
    },
    {
      "cell_type": "code",
      "source": [
        "np2=np1\n",
        "np3=np1.copy()\n",
        "print(np3)"
      ],
      "metadata": {
        "colab": {
          "base_uri": "https://localhost:8080/"
        },
        "id": "uI0kVoJ4Jx1L",
        "outputId": "5fff04e9-1cca-406b-e5c5-eca9698c5f11"
      },
      "execution_count": null,
      "outputs": [
        {
          "output_type": "stream",
          "name": "stdout",
          "text": [
            "[ 1  2 56  6  7]\n"
          ]
        }
      ]
    },
    {
      "cell_type": "code",
      "source": [
        "np3[1]=85\n",
        "print(np3)"
      ],
      "metadata": {
        "colab": {
          "base_uri": "https://localhost:8080/"
        },
        "id": "Y1JimpH0KEjv",
        "outputId": "f1421b70-087d-455d-a4c2-93816a7cbb34"
      },
      "execution_count": null,
      "outputs": [
        {
          "output_type": "stream",
          "name": "stdout",
          "text": [
            "[ 1 85 56  6  7]\n"
          ]
        }
      ]
    },
    {
      "cell_type": "code",
      "source": [
        "#mean\n",
        "ny.mean(np1)\n",
        "print(np1)"
      ],
      "metadata": {
        "colab": {
          "base_uri": "https://localhost:8080/"
        },
        "id": "TSwS8YX0KLOW",
        "outputId": "586d3329-e87f-46bc-d60a-de1a5fce1779"
      },
      "execution_count": null,
      "outputs": [
        {
          "output_type": "stream",
          "name": "stdout",
          "text": [
            "[ 1  2 56  6  7]\n"
          ]
        }
      ]
    }
  ]
}