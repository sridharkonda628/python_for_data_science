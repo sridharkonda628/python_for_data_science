{
  "nbformat": 4,
  "nbformat_minor": 0,
  "metadata": {
    "colab": {
      "provenance": [],
      "authorship_tag": "ABX9TyPg0gGVgb4dMmfkmpJxz/wI",
      "include_colab_link": true
    },
    "kernelspec": {
      "name": "python3",
      "display_name": "Python 3"
    },
    "language_info": {
      "name": "python"
    }
  },
  "cells": [
    {
      "cell_type": "markdown",
      "metadata": {
        "id": "view-in-github",
        "colab_type": "text"
      },
      "source": [
        "<a href=\"https://colab.research.google.com/github/sridharkonda628/python_for_data_science/blob/main/Day02.ipynb\" target=\"_parent\"><img src=\"https://colab.research.google.com/assets/colab-badge.svg\" alt=\"Open In Colab\"/></a>"
      ]
    },
    {
      "cell_type": "code",
      "execution_count": null,
      "metadata": {
        "id": "eFZ7z9drrN5r"
      },
      "outputs": [],
      "source": [
        "\n",
        "set1={1,2,3,4,5}\n",
        "print(set1)"
      ]
    },
    {
      "cell_type": "code",
      "source": [
        "set1={45,55,64}\n",
        "set1.add(6)\n",
        "print(set1)"
      ],
      "metadata": {
        "colab": {
          "base_uri": "https://localhost:8080/"
        },
        "id": "_l1NobEpjcgf",
        "outputId": "e6cf3a0a-b703-4abe-922f-7ced498c96b1"
      },
      "execution_count": 20,
      "outputs": [
        {
          "output_type": "stream",
          "name": "stdout",
          "text": [
            "{64, 45, 6, 55}\n"
          ]
        }
      ]
    },
    {
      "cell_type": "code",
      "source": [
        "s1={1,5,6}\n",
        "print(s1)\n",
        "s1.remove(5)\n",
        "print(\"after removing: \",s1)"
      ],
      "metadata": {
        "colab": {
          "base_uri": "https://localhost:8080/"
        },
        "id": "MfVPD1qPj1yi",
        "outputId": "00b531bb-de27-4452-f82e-de5b95193bdf"
      },
      "execution_count": 21,
      "outputs": [
        {
          "output_type": "stream",
          "name": "stdout",
          "text": [
            "{1, 5, 6}\n",
            "after removing:  {1, 6}\n"
          ]
        }
      ]
    },
    {
      "cell_type": "code",
      "source": [
        "l1=[1,2,3,4]\n",
        "l2=[1,2,3,4]\n",
        "print(l1 is l2)"
      ],
      "metadata": {
        "colab": {
          "base_uri": "https://localhost:8080/"
        },
        "id": "jOVx4FLixQOT",
        "outputId": "7ce5b67a-04f6-476e-f6aa-e9653e40fe0c"
      },
      "execution_count": null,
      "outputs": [
        {
          "output_type": "stream",
          "name": "stdout",
          "text": [
            "False\n"
          ]
        }
      ]
    },
    {
      "cell_type": "code",
      "source": [
        "import random\n",
        "user=input(\"choose one:\")\n",
        "options=[\"Rock\" ,\"paper\", \"Scissors\"]\n",
        "system=random.choice(options)\n",
        "print(user)\n",
        "print(system)\n",
        "if user==system:\n",
        "  print(\"Draw match chotu\")\n",
        "\n",
        "else:\n",
        "  if user==\"rock\":\n",
        "    if system==\"paper\":\n",
        "       print(\"You won! :)\")\n",
        "    else:\n",
        "       print(\"Hurray you lost!\")\n",
        "       print(\"Let's restart\")\n",
        "  if user ==\"paper\":\n",
        "    if system==\"scissors\":\n",
        "      print(\"You won! :)\")\n",
        "    else:\n",
        "      print(\"Hurray you lost!\")\n",
        "      print(\"Let's restart\")\n",
        "  if user ==\"rock\":\n",
        "     if system==\"scissors\":\n",
        "        print(\"You won! :)\")\n",
        "     else:\n",
        "        print(\"Hurray you lost!\")\n",
        "        print(\"Let's restart\")\n",
        "  if user ==\"paper\":\n",
        "     if system==\"rock\":\n",
        "        print(\"You won! :)\")\n",
        "     else:\n",
        "        print(\"Hurray you lost!\")\n",
        "        print(\"Let's restart\")\n"
      ],
      "metadata": {
        "colab": {
          "base_uri": "https://localhost:8080/"
        },
        "id": "WSEMX8edxzkY",
        "outputId": "5fd7d8be-31d6-4781-aea9-28bf8bb35b89"
      },
      "execution_count": null,
      "outputs": [
        {
          "output_type": "stream",
          "name": "stdout",
          "text": [
            "choose one:rock\n",
            "rock\n",
            "paper\n",
            "You won! :)\n",
            "Hurray you lost!\n",
            "Let's restart\n"
          ]
        }
      ]
    },
    {
      "cell_type": "code",
      "source": [
        "set1={}"
      ],
      "metadata": {
        "id": "NhJcjCfn-Flg"
      },
      "execution_count": null,
      "outputs": []
    }
  ]
}